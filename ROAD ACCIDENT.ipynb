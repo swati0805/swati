{
 "cells": [
  {
   "cell_type": "code",
   "execution_count": 1,
   "id": "5c70bccb",
   "metadata": {},
   "outputs": [],
   "source": [
    "import pandas as pd\n",
    "import numpy as np\n",
    "from sklearn import linear_model\n",
    "import matplotlib.pyplot as plt\n",
    "import seaborn as sns\n"
   ]
  },
  {
   "cell_type": "code",
   "execution_count": 2,
   "id": "349916b0",
   "metadata": {},
   "outputs": [
    {
     "data": {
      "text/html": [
       "<div>\n",
       "<style scoped>\n",
       "    .dataframe tbody tr th:only-of-type {\n",
       "        vertical-align: middle;\n",
       "    }\n",
       "\n",
       "    .dataframe tbody tr th {\n",
       "        vertical-align: top;\n",
       "    }\n",
       "\n",
       "    .dataframe thead th {\n",
       "        text-align: right;\n",
       "    }\n",
       "</style>\n",
       "<table border=\"1\" class=\"dataframe\">\n",
       "  <thead>\n",
       "    <tr style=\"text-align: right;\">\n",
       "      <th></th>\n",
       "      <th>state</th>\n",
       "      <th>bridge</th>\n",
       "      <th>culvert</th>\n",
       "      <th>pit holes</th>\n",
       "      <th>steep grade</th>\n",
       "      <th>ongoing road work</th>\n",
       "      <th>others</th>\n",
       "      <th>total Persons killed</th>\n",
       "    </tr>\n",
       "  </thead>\n",
       "  <tbody>\n",
       "    <tr>\n",
       "      <th>0</th>\n",
       "      <td>Andhra Pradesh</td>\n",
       "      <td>16</td>\n",
       "      <td>21</td>\n",
       "      <td>26</td>\n",
       "      <td>31</td>\n",
       "      <td>36</td>\n",
       "      <td>41</td>\n",
       "      <td>3114</td>\n",
       "    </tr>\n",
       "    <tr>\n",
       "      <th>1</th>\n",
       "      <td>Arunachal Pradesh</td>\n",
       "      <td>268</td>\n",
       "      <td>121</td>\n",
       "      <td>32</td>\n",
       "      <td>15</td>\n",
       "      <td>96</td>\n",
       "      <td>414</td>\n",
       "      <td>54</td>\n",
       "    </tr>\n",
       "    <tr>\n",
       "      <th>2</th>\n",
       "      <td>Assam</td>\n",
       "      <td>15</td>\n",
       "      <td>13</td>\n",
       "      <td>6</td>\n",
       "      <td>13</td>\n",
       "      <td>19</td>\n",
       "      <td>29</td>\n",
       "      <td>1690</td>\n",
       "    </tr>\n",
       "    <tr>\n",
       "      <th>3</th>\n",
       "      <td>Bihar</td>\n",
       "      <td>229</td>\n",
       "      <td>119</td>\n",
       "      <td>93</td>\n",
       "      <td>63</td>\n",
       "      <td>123</td>\n",
       "      <td>296</td>\n",
       "      <td>3436</td>\n",
       "    </tr>\n",
       "    <tr>\n",
       "      <th>4</th>\n",
       "      <td>Chhattisgarh</td>\n",
       "      <td>178</td>\n",
       "      <td>206</td>\n",
       "      <td>0</td>\n",
       "      <td>102</td>\n",
       "      <td>16</td>\n",
       "      <td>602</td>\n",
       "      <td>1421</td>\n",
       "    </tr>\n",
       "    <tr>\n",
       "      <th>5</th>\n",
       "      <td>Goa</td>\n",
       "      <td>158</td>\n",
       "      <td>143</td>\n",
       "      <td>28</td>\n",
       "      <td>24</td>\n",
       "      <td>84</td>\n",
       "      <td>818</td>\n",
       "      <td>107</td>\n",
       "    </tr>\n",
       "    <tr>\n",
       "      <th>6</th>\n",
       "      <td>Gujarat</td>\n",
       "      <td>1</td>\n",
       "      <td>0</td>\n",
       "      <td>1</td>\n",
       "      <td>0</td>\n",
       "      <td>0</td>\n",
       "      <td>0</td>\n",
       "      <td>1898</td>\n",
       "    </tr>\n",
       "    <tr>\n",
       "      <th>7</th>\n",
       "      <td>Haryana</td>\n",
       "      <td>270</td>\n",
       "      <td>135</td>\n",
       "      <td>5</td>\n",
       "      <td>117</td>\n",
       "      <td>102</td>\n",
       "      <td>2</td>\n",
       "      <td>1901</td>\n",
       "    </tr>\n",
       "    <tr>\n",
       "      <th>8</th>\n",
       "      <td>Himachal Pradesh</td>\n",
       "      <td>216</td>\n",
       "      <td>150</td>\n",
       "      <td>20</td>\n",
       "      <td>88</td>\n",
       "      <td>151</td>\n",
       "      <td>1698</td>\n",
       "      <td>487</td>\n",
       "    </tr>\n",
       "    <tr>\n",
       "      <th>9</th>\n",
       "      <td>Jammu &amp; Kashmir</td>\n",
       "      <td>20</td>\n",
       "      <td>0</td>\n",
       "      <td>16</td>\n",
       "      <td>54</td>\n",
       "      <td>19</td>\n",
       "      <td>2</td>\n",
       "      <td>384</td>\n",
       "    </tr>\n",
       "    <tr>\n",
       "      <th>10</th>\n",
       "      <td>Jharkhand</td>\n",
       "      <td>5</td>\n",
       "      <td>5</td>\n",
       "      <td>0</td>\n",
       "      <td>9</td>\n",
       "      <td>17</td>\n",
       "      <td>661</td>\n",
       "      <td>1554</td>\n",
       "    </tr>\n",
       "    <tr>\n",
       "      <th>11</th>\n",
       "      <td>Karnataka</td>\n",
       "      <td>184</td>\n",
       "      <td>117</td>\n",
       "      <td>94</td>\n",
       "      <td>95</td>\n",
       "      <td>53</td>\n",
       "      <td>698</td>\n",
       "      <td>3842</td>\n",
       "    </tr>\n",
       "    <tr>\n",
       "      <th>12</th>\n",
       "      <td>Kerala</td>\n",
       "      <td>327</td>\n",
       "      <td>12</td>\n",
       "      <td>38</td>\n",
       "      <td>38</td>\n",
       "      <td>144</td>\n",
       "      <td>13</td>\n",
       "      <td>1259</td>\n",
       "    </tr>\n",
       "    <tr>\n",
       "      <th>13</th>\n",
       "      <td>Madhya Pradesh</td>\n",
       "      <td>41</td>\n",
       "      <td>17</td>\n",
       "      <td>7</td>\n",
       "      <td>11</td>\n",
       "      <td>28</td>\n",
       "      <td>699</td>\n",
       "      <td>2904</td>\n",
       "    </tr>\n",
       "    <tr>\n",
       "      <th>14</th>\n",
       "      <td>Maharashtra</td>\n",
       "      <td>224</td>\n",
       "      <td>279</td>\n",
       "      <td>91</td>\n",
       "      <td>136</td>\n",
       "      <td>317</td>\n",
       "      <td>2282</td>\n",
       "      <td>3799</td>\n",
       "    </tr>\n",
       "    <tr>\n",
       "      <th>15</th>\n",
       "      <td>Manipur</td>\n",
       "      <td>321</td>\n",
       "      <td>213</td>\n",
       "      <td>72</td>\n",
       "      <td>361</td>\n",
       "      <td>341</td>\n",
       "      <td>24</td>\n",
       "      <td>111</td>\n",
       "    </tr>\n",
       "    <tr>\n",
       "      <th>16</th>\n",
       "      <td>Meghalaya</td>\n",
       "      <td>7</td>\n",
       "      <td>5</td>\n",
       "      <td>0</td>\n",
       "      <td>0</td>\n",
       "      <td>2</td>\n",
       "      <td>2</td>\n",
       "      <td>89</td>\n",
       "    </tr>\n",
       "    <tr>\n",
       "      <th>17</th>\n",
       "      <td>Mizoram</td>\n",
       "      <td>4</td>\n",
       "      <td>0</td>\n",
       "      <td>2</td>\n",
       "      <td>0</td>\n",
       "      <td>0</td>\n",
       "      <td>59</td>\n",
       "      <td>19</td>\n",
       "    </tr>\n",
       "    <tr>\n",
       "      <th>18</th>\n",
       "      <td>Nagaland</td>\n",
       "      <td>0</td>\n",
       "      <td>0</td>\n",
       "      <td>0</td>\n",
       "      <td>3</td>\n",
       "      <td>1</td>\n",
       "      <td>0</td>\n",
       "      <td>18</td>\n",
       "    </tr>\n",
       "    <tr>\n",
       "      <th>19</th>\n",
       "      <td>Odisha</td>\n",
       "      <td>0</td>\n",
       "      <td>3</td>\n",
       "      <td>0</td>\n",
       "      <td>0</td>\n",
       "      <td>9</td>\n",
       "      <td>2</td>\n",
       "      <td>2000</td>\n",
       "    </tr>\n",
       "    <tr>\n",
       "      <th>20</th>\n",
       "      <td>Punjab</td>\n",
       "      <td>193</td>\n",
       "      <td>162</td>\n",
       "      <td>117</td>\n",
       "      <td>33</td>\n",
       "      <td>286</td>\n",
       "      <td>660</td>\n",
       "      <td>1693</td>\n",
       "    </tr>\n",
       "    <tr>\n",
       "      <th>21</th>\n",
       "      <td>Rajasthan</td>\n",
       "      <td>267</td>\n",
       "      <td>242</td>\n",
       "      <td>245</td>\n",
       "      <td>53</td>\n",
       "      <td>281</td>\n",
       "      <td>506</td>\n",
       "      <td>3870</td>\n",
       "    </tr>\n",
       "    <tr>\n",
       "      <th>22</th>\n",
       "      <td>Sikkim</td>\n",
       "      <td>58</td>\n",
       "      <td>44</td>\n",
       "      <td>34</td>\n",
       "      <td>23</td>\n",
       "      <td>126</td>\n",
       "      <td>1217</td>\n",
       "      <td>29</td>\n",
       "    </tr>\n",
       "    <tr>\n",
       "      <th>23</th>\n",
       "      <td>Tamil Nadu</td>\n",
       "      <td>2</td>\n",
       "      <td>0</td>\n",
       "      <td>1</td>\n",
       "      <td>4</td>\n",
       "      <td>4</td>\n",
       "      <td>19</td>\n",
       "      <td>3956</td>\n",
       "    </tr>\n",
       "    <tr>\n",
       "      <th>24</th>\n",
       "      <td>Telangana</td>\n",
       "      <td>544</td>\n",
       "      <td>180</td>\n",
       "      <td>93</td>\n",
       "      <td>87</td>\n",
       "      <td>73</td>\n",
       "      <td>205</td>\n",
       "      <td>2491</td>\n",
       "    </tr>\n",
       "    <tr>\n",
       "      <th>25</th>\n",
       "      <td>Tripura</td>\n",
       "      <td>176</td>\n",
       "      <td>163</td>\n",
       "      <td>49</td>\n",
       "      <td>16</td>\n",
       "      <td>90</td>\n",
       "      <td>813</td>\n",
       "      <td>106</td>\n",
       "    </tr>\n",
       "    <tr>\n",
       "      <th>26</th>\n",
       "      <td>Uttarakhand</td>\n",
       "      <td>11</td>\n",
       "      <td>5</td>\n",
       "      <td>0</td>\n",
       "      <td>0</td>\n",
       "      <td>0</td>\n",
       "      <td>1</td>\n",
       "      <td>428</td>\n",
       "    </tr>\n",
       "    <tr>\n",
       "      <th>27</th>\n",
       "      <td>Uttar Pradesh</td>\n",
       "      <td>23</td>\n",
       "      <td>7</td>\n",
       "      <td>15</td>\n",
       "      <td>8</td>\n",
       "      <td>34</td>\n",
       "      <td>52</td>\n",
       "      <td>8830</td>\n",
       "    </tr>\n",
       "    <tr>\n",
       "      <th>28</th>\n",
       "      <td>West Bengal</td>\n",
       "      <td>1576</td>\n",
       "      <td>1205</td>\n",
       "      <td>1034</td>\n",
       "      <td>797</td>\n",
       "      <td>1858</td>\n",
       "      <td>4389</td>\n",
       "      <td>2002</td>\n",
       "    </tr>\n",
       "    <tr>\n",
       "      <th>29</th>\n",
       "      <td>Andaman &amp; Nicobar Islands</td>\n",
       "      <td>142</td>\n",
       "      <td>89</td>\n",
       "      <td>31</td>\n",
       "      <td>5</td>\n",
       "      <td>142</td>\n",
       "      <td>0</td>\n",
       "      <td>7</td>\n",
       "    </tr>\n",
       "    <tr>\n",
       "      <th>30</th>\n",
       "      <td>Chandigarh</td>\n",
       "      <td>0</td>\n",
       "      <td>2</td>\n",
       "      <td>0</td>\n",
       "      <td>1</td>\n",
       "      <td>0</td>\n",
       "      <td>0</td>\n",
       "      <td>13</td>\n",
       "    </tr>\n",
       "    <tr>\n",
       "      <th>31</th>\n",
       "      <td>Dadra &amp; Nagar Haveli</td>\n",
       "      <td>0</td>\n",
       "      <td>0</td>\n",
       "      <td>0</td>\n",
       "      <td>0</td>\n",
       "      <td>0</td>\n",
       "      <td>0</td>\n",
       "      <td>0</td>\n",
       "    </tr>\n",
       "    <tr>\n",
       "      <th>32</th>\n",
       "      <td>Daman &amp; Diu</td>\n",
       "      <td>2</td>\n",
       "      <td>0</td>\n",
       "      <td>0</td>\n",
       "      <td>0</td>\n",
       "      <td>0</td>\n",
       "      <td>0</td>\n",
       "      <td>0</td>\n",
       "    </tr>\n",
       "    <tr>\n",
       "      <th>33</th>\n",
       "      <td>Delhi</td>\n",
       "      <td>4</td>\n",
       "      <td>0</td>\n",
       "      <td>0</td>\n",
       "      <td>0</td>\n",
       "      <td>0</td>\n",
       "      <td>0</td>\n",
       "      <td>278</td>\n",
       "    </tr>\n",
       "    <tr>\n",
       "      <th>34</th>\n",
       "      <td>Lakshadweep</td>\n",
       "      <td>72</td>\n",
       "      <td>4</td>\n",
       "      <td>16</td>\n",
       "      <td>3</td>\n",
       "      <td>39</td>\n",
       "      <td>217</td>\n",
       "      <td>0</td>\n",
       "    </tr>\n",
       "    <tr>\n",
       "      <th>35</th>\n",
       "      <td>Puducherry</td>\n",
       "      <td>0</td>\n",
       "      <td>0</td>\n",
       "      <td>0</td>\n",
       "      <td>0</td>\n",
       "      <td>0</td>\n",
       "      <td>0</td>\n",
       "      <td>82</td>\n",
       "    </tr>\n",
       "  </tbody>\n",
       "</table>\n",
       "</div>"
      ],
      "text/plain": [
       "                        state  bridge  culvert  pit holes  steep grade  \\\n",
       "0              Andhra Pradesh      16       21         26           31   \n",
       "1           Arunachal Pradesh     268      121         32           15   \n",
       "2                       Assam      15       13          6           13   \n",
       "3                       Bihar     229      119         93           63   \n",
       "4                Chhattisgarh     178      206          0          102   \n",
       "5                         Goa     158      143         28           24   \n",
       "6                     Gujarat       1        0          1            0   \n",
       "7                     Haryana     270      135          5          117   \n",
       "8            Himachal Pradesh     216      150         20           88   \n",
       "9             Jammu & Kashmir      20        0         16           54   \n",
       "10                  Jharkhand       5        5          0            9   \n",
       "11                  Karnataka     184      117         94           95   \n",
       "12                     Kerala     327       12         38           38   \n",
       "13             Madhya Pradesh      41       17          7           11   \n",
       "14                Maharashtra     224      279         91          136   \n",
       "15                    Manipur     321      213         72          361   \n",
       "16                  Meghalaya       7        5          0            0   \n",
       "17                    Mizoram       4        0          2            0   \n",
       "18                   Nagaland       0        0          0            3   \n",
       "19                     Odisha       0        3          0            0   \n",
       "20                     Punjab     193      162        117           33   \n",
       "21                  Rajasthan     267      242        245           53   \n",
       "22                     Sikkim      58       44         34           23   \n",
       "23                 Tamil Nadu       2        0          1            4   \n",
       "24                  Telangana     544      180         93           87   \n",
       "25                    Tripura     176      163         49           16   \n",
       "26                Uttarakhand      11        5          0            0   \n",
       "27              Uttar Pradesh      23        7         15            8   \n",
       "28                West Bengal    1576     1205       1034          797   \n",
       "29  Andaman & Nicobar Islands     142       89         31            5   \n",
       "30                 Chandigarh       0        2          0            1   \n",
       "31       Dadra & Nagar Haveli       0        0          0            0   \n",
       "32                Daman & Diu       2        0          0            0   \n",
       "33                      Delhi       4        0          0            0   \n",
       "34                Lakshadweep      72        4         16            3   \n",
       "35                 Puducherry       0        0          0            0   \n",
       "\n",
       "    ongoing road work  others  total Persons killed  \n",
       "0                  36      41                  3114  \n",
       "1                  96     414                    54  \n",
       "2                  19      29                  1690  \n",
       "3                 123     296                  3436  \n",
       "4                  16     602                  1421  \n",
       "5                  84     818                   107  \n",
       "6                   0       0                  1898  \n",
       "7                 102       2                  1901  \n",
       "8                 151    1698                   487  \n",
       "9                  19       2                   384  \n",
       "10                 17     661                  1554  \n",
       "11                 53     698                  3842  \n",
       "12                144      13                  1259  \n",
       "13                 28     699                  2904  \n",
       "14                317    2282                  3799  \n",
       "15                341      24                   111  \n",
       "16                  2       2                    89  \n",
       "17                  0      59                    19  \n",
       "18                  1       0                    18  \n",
       "19                  9       2                  2000  \n",
       "20                286     660                  1693  \n",
       "21                281     506                  3870  \n",
       "22                126    1217                    29  \n",
       "23                  4      19                  3956  \n",
       "24                 73     205                  2491  \n",
       "25                 90     813                   106  \n",
       "26                  0       1                   428  \n",
       "27                 34      52                  8830  \n",
       "28               1858    4389                  2002  \n",
       "29                142       0                     7  \n",
       "30                  0       0                    13  \n",
       "31                  0       0                     0  \n",
       "32                  0       0                     0  \n",
       "33                  0       0                   278  \n",
       "34                 39     217                     0  \n",
       "35                  0       0                    82  "
      ]
     },
     "execution_count": 2,
     "metadata": {},
     "output_type": "execute_result"
    }
   ],
   "source": [
    "road_accident=pd.read_excel(\"persons killed.xlsx\")\n",
    "road_accident"
   ]
  },
  {
   "cell_type": "code",
   "execution_count": 53,
   "id": "548dac2f",
   "metadata": {},
   "outputs": [
    {
     "data": {
      "text/plain": [
       "<AxesSubplot:ylabel='Frequency'>"
      ]
     },
     "execution_count": 53,
     "metadata": {},
     "output_type": "execute_result"
    },
    {
     "data": {
      "image/png": "[encoded data removed]",
      "text/plain": [
       "<Figure size 432x288 with 1 Axes>"
      ]
     },
     "metadata": {
      "needs_background": "light"
     },
     "output_type": "display_data"
    }
   ],
   "source": [
    "road_accident['total Persons killed'].plot.hist()\n"
   ]
  },
  {
   "cell_type": "code",
   "execution_count": 4,
   "id": "f0bec10d",
   "metadata": {},
   "outputs": [
    {
     "data": {
      "text/plain": [
       "<AxesSubplot:ylabel='Frequency'>"
      ]
     },
     "execution_count": 4,
     "metadata": {},
     "output_type": "execute_result"
    },
    {
     "data": {
      "image/png": "[encoded data removed]",
      "text/plain": [
       "<Figure size 432x288 with 1 Axes>"
      ]
     },
     "metadata": {
      "needs_background": "light"
     },
     "output_type": "display_data"
    }
   ],
   "source": [
    "road_accident['bridge'].plot.hist()"
   ]
  },
  {
   "cell_type": "code",
   "execution_count": 5,
   "id": "40895c64",
   "metadata": {},
   "outputs": [
    {
     "data": {
      "text/plain": [
       "<AxesSubplot:xlabel='state', ylabel='total Persons killed'>"
      ]
     },
     "execution_count": 5,
     "metadata": {},
     "output_type": "execute_result"
    },
    {
     "data": {
      "image/png": "[encoded data removed]",
      "text/plain": [
       "<Figure size 432x288 with 1 Axes>"
      ]
     },
     "metadata": {
      "needs_background": "light"
     },
     "output_type": "display_data"
    }
   ],
   "source": [
    "sns.lineplot(x=\"state\",y=\"total Persons killed\",data=road_accident)\n"
   ]
  },
  {
   "cell_type": "code",
   "execution_count": 6,
   "id": "eb5e2d91",
   "metadata": {},
   "outputs": [
    {
     "name": "stderr",
     "output_type": "stream",
     "text": [
      "C:\\Users\\hp\\anaconda3\\lib\\site-packages\\seaborn\\distributions.py:2557: FutureWarning: `distplot` is a deprecated function and will be removed in a future version. Please adapt your code to use either `displot` (a figure-level function with similar flexibility) or `histplot` (an axes-level function for histograms).\n",
      "  warnings.warn(msg, FutureWarning)\n"
     ]
    },
    {
     "data": {
      "text/plain": [
       "<AxesSubplot:xlabel='total Persons killed', ylabel='Density'>"
      ]
     },
     "execution_count": 6,
     "metadata": {},
     "output_type": "execute_result"
    },
    {
     "data": {
      "image/png": "[encoded data removed]",
      "text/plain": [
       "<Figure size 432x288 with 1 Axes>"
      ]
     },
     "metadata": {
      "needs_background": "light"
     },
     "output_type": "display_data"
    }
   ],
   "source": [
    "sns.distplot(road_accident['total Persons killed'])"
   ]
  },
  {
   "cell_type": "code",
   "execution_count": 7,
   "id": "b8d75784",
   "metadata": {},
   "outputs": [
    {
     "name": "stderr",
     "output_type": "stream",
     "text": [
      "C:\\Users\\hp\\anaconda3\\lib\\site-packages\\seaborn\\distributions.py:2557: FutureWarning: `distplot` is a deprecated function and will be removed in a future version. Please adapt your code to use either `displot` (a figure-level function with similar flexibility) or `histplot` (an axes-level function for histograms).\n",
      "  warnings.warn(msg, FutureWarning)\n"
     ]
    },
    {
     "data": {
      "text/plain": [
       "<AxesSubplot:xlabel='others', ylabel='Density'>"
      ]
     },
     "execution_count": 7,
     "metadata": {},
     "output_type": "execute_result"
    },
    {
     "data": {
      "image/png": "[encoded data removed]",
      "text/plain": [
       "<Figure size 432x288 with 1 Axes>"
      ]
     },
     "metadata": {
      "needs_background": "light"
     },
     "output_type": "display_data"
    }
   ],
   "source": [
    "sns.distplot(road_accident['others'])"
   ]
  },
  {
   "cell_type": "code",
   "execution_count": 8,
   "id": "c5271c14",
   "metadata": {},
   "outputs": [
    {
     "name": "stderr",
     "output_type": "stream",
     "text": [
      "C:\\Users\\hp\\anaconda3\\lib\\site-packages\\seaborn\\distributions.py:2557: FutureWarning: `distplot` is a deprecated function and will be removed in a future version. Please adapt your code to use either `displot` (a figure-level function with similar flexibility) or `histplot` (an axes-level function for histograms).\n",
      "  warnings.warn(msg, FutureWarning)\n"
     ]
    },
    {
     "data": {
      "text/plain": [
       "<AxesSubplot:xlabel='steep grade', ylabel='Density'>"
      ]
     },
     "execution_count": 8,
     "metadata": {},
     "output_type": "execute_result"
    },
    {
     "data": {
      "image/png": "[encoded data removed]",
      "text/plain": [
       "<Figure size 432x288 with 1 Axes>"
      ]
     },
     "metadata": {
      "needs_background": "light"
     },
     "output_type": "display_data"
    }
   ],
   "source": [
    "sns.distplot(road_accident['steep grade'])"
   ]
  },
  {
   "cell_type": "code",
   "execution_count": 9,
   "id": "49b1db85",
   "metadata": {},
   "outputs": [
    {
     "data": {
      "image/png": "[encoded data removed]",
      "text/plain": [
       "<Figure size 432x288 with 1 Axes>"
      ]
     },
     "metadata": {
      "needs_background": "light"
     },
     "output_type": "display_data"
    },
    {
     "data": {
      "text/plain": [
       "<Figure size 14400x576 with 0 Axes>"
      ]
     },
     "metadata": {},
     "output_type": "display_data"
    }
   ],
   "source": [
    "sns.scatterplot(x=\"bridge\",y=\"state\",data=road_accident)\n",
    "\n",
    "plt.figure(figsize=(200,8))\n",
    "plt.show()"
   ]
  },
  {
   "cell_type": "code",
   "execution_count": 10,
   "id": "947ae94c",
   "metadata": {},
   "outputs": [
    {
     "data": {
      "text/html": [
       "<div>\n",
       "<style scoped>\n",
       "    .dataframe tbody tr th:only-of-type {\n",
       "        vertical-align: middle;\n",
       "    }\n",
       "\n",
       "    .dataframe tbody tr th {\n",
       "        vertical-align: top;\n",
       "    }\n",
       "\n",
       "    .dataframe thead th {\n",
       "        text-align: right;\n",
       "    }\n",
       "</style>\n",
       "<table border=\"1\" class=\"dataframe\">\n",
       "  <thead>\n",
       "    <tr style=\"text-align: right;\">\n",
       "      <th></th>\n",
       "      <th>state</th>\n",
       "      <th>bridge</th>\n",
       "      <th>culvert</th>\n",
       "      <th>pit holes</th>\n",
       "      <th>steep grade</th>\n",
       "      <th>ongoing road work</th>\n",
       "      <th>others</th>\n",
       "      <th>total Persons killed</th>\n",
       "    </tr>\n",
       "  </thead>\n",
       "  <tbody>\n",
       "    <tr>\n",
       "      <th>0</th>\n",
       "      <td>Andhra Pradesh</td>\n",
       "      <td>16</td>\n",
       "      <td>21</td>\n",
       "      <td>26</td>\n",
       "      <td>31</td>\n",
       "      <td>36</td>\n",
       "      <td>41</td>\n",
       "      <td>3114</td>\n",
       "    </tr>\n",
       "    <tr>\n",
       "      <th>1</th>\n",
       "      <td>Arunachal Pradesh</td>\n",
       "      <td>268</td>\n",
       "      <td>121</td>\n",
       "      <td>32</td>\n",
       "      <td>15</td>\n",
       "      <td>96</td>\n",
       "      <td>414</td>\n",
       "      <td>54</td>\n",
       "    </tr>\n",
       "    <tr>\n",
       "      <th>2</th>\n",
       "      <td>Assam</td>\n",
       "      <td>15</td>\n",
       "      <td>13</td>\n",
       "      <td>6</td>\n",
       "      <td>13</td>\n",
       "      <td>19</td>\n",
       "      <td>29</td>\n",
       "      <td>1690</td>\n",
       "    </tr>\n",
       "    <tr>\n",
       "      <th>3</th>\n",
       "      <td>Bihar</td>\n",
       "      <td>229</td>\n",
       "      <td>119</td>\n",
       "      <td>93</td>\n",
       "      <td>63</td>\n",
       "      <td>123</td>\n",
       "      <td>296</td>\n",
       "      <td>3436</td>\n",
       "    </tr>\n",
       "    <tr>\n",
       "      <th>4</th>\n",
       "      <td>Chhattisgarh</td>\n",
       "      <td>178</td>\n",
       "      <td>206</td>\n",
       "      <td>0</td>\n",
       "      <td>102</td>\n",
       "      <td>16</td>\n",
       "      <td>602</td>\n",
       "      <td>1421</td>\n",
       "    </tr>\n",
       "  </tbody>\n",
       "</table>\n",
       "</div>"
      ],
      "text/plain": [
       "               state  bridge  culvert  pit holes  steep grade  \\\n",
       "0     Andhra Pradesh      16       21         26           31   \n",
       "1  Arunachal Pradesh     268      121         32           15   \n",
       "2              Assam      15       13          6           13   \n",
       "3              Bihar     229      119         93           63   \n",
       "4       Chhattisgarh     178      206          0          102   \n",
       "\n",
       "   ongoing road work  others  total Persons killed  \n",
       "0                 36      41                  3114  \n",
       "1                 96     414                    54  \n",
       "2                 19      29                  1690  \n",
       "3                123     296                  3436  \n",
       "4                 16     602                  1421  "
      ]
     },
     "execution_count": 10,
     "metadata": {},
     "output_type": "execute_result"
    }
   ],
   "source": [
    "road_accident.head()"
   ]
  },
  {
   "cell_type": "code",
   "execution_count": 11,
   "id": "4fd8404f",
   "metadata": {},
   "outputs": [
    {
     "data": {
      "text/plain": [
       "state                   0\n",
       "bridge                  0\n",
       "culvert                 0\n",
       "pit holes               0\n",
       "steep grade             0\n",
       "ongoing road work       0\n",
       "others                  0\n",
       "total Persons killed    0\n",
       "dtype: int64"
      ]
     },
     "execution_count": 11,
     "metadata": {},
     "output_type": "execute_result"
    }
   ],
   "source": [
    "road_accident.isnull().sum()"
   ]
  },
  {
   "cell_type": "code",
   "execution_count": 12,
   "id": "4881a316",
   "metadata": {},
   "outputs": [
    {
     "name": "stdout",
     "output_type": "stream",
     "text": [
      "<class 'pandas.core.frame.DataFrame'>\n",
      "RangeIndex: 36 entries, 0 to 35\n",
      "Data columns (total 8 columns):\n",
      " #   Column                Non-Null Count  Dtype \n",
      "---  ------                --------------  ----- \n",
      " 0   state                 36 non-null     object\n",
      " 1   bridge                36 non-null     int64 \n",
      " 2   culvert               36 non-null     int64 \n",
      " 3   pit holes             36 non-null     int64 \n",
      " 4   steep grade           36 non-null     int64 \n",
      " 5   ongoing road work     36 non-null     int64 \n",
      " 6   others                36 non-null     int64 \n",
      " 7   total Persons killed  36 non-null     int64 \n",
      "dtypes: int64(7), object(1)\n",
      "memory usage: 2.4+ KB\n"
     ]
    }
   ],
   "source": [
    "road_accident.info()"
   ]
  },
  {
   "cell_type": "code",
   "execution_count": 13,
   "id": "732180a1",
   "metadata": {},
   "outputs": [
    {
     "data": {
      "text/html": [
       "<div>\n",
       "<style scoped>\n",
       "    .dataframe tbody tr th:only-of-type {\n",
       "        vertical-align: middle;\n",
       "    }\n",
       "\n",
       "    .dataframe tbody tr th {\n",
       "        vertical-align: top;\n",
       "    }\n",
       "\n",
       "    .dataframe thead th {\n",
       "        text-align: right;\n",
       "    }\n",
       "</style>\n",
       "<table border=\"1\" class=\"dataframe\">\n",
       "  <thead>\n",
       "    <tr style=\"text-align: right;\">\n",
       "      <th></th>\n",
       "      <th>bridge</th>\n",
       "      <th>culvert</th>\n",
       "      <th>pit holes</th>\n",
       "      <th>steep grade</th>\n",
       "      <th>ongoing road work</th>\n",
       "      <th>others</th>\n",
       "      <th>total Persons killed</th>\n",
       "    </tr>\n",
       "  </thead>\n",
       "  <tbody>\n",
       "    <tr>\n",
       "      <th>count</th>\n",
       "      <td>36.000000</td>\n",
       "      <td>36.000000</td>\n",
       "      <td>36.000000</td>\n",
       "      <td>36.000000</td>\n",
       "      <td>36.000000</td>\n",
       "      <td>36.000000</td>\n",
       "      <td>36.000000</td>\n",
       "    </tr>\n",
       "    <tr>\n",
       "      <th>mean</th>\n",
       "      <td>154.277778</td>\n",
       "      <td>101.722222</td>\n",
       "      <td>60.166667</td>\n",
       "      <td>60.833333</td>\n",
       "      <td>124.750000</td>\n",
       "      <td>456.138889</td>\n",
       "      <td>1496.444444</td>\n",
       "    </tr>\n",
       "    <tr>\n",
       "      <th>std</th>\n",
       "      <td>277.173346</td>\n",
       "      <td>207.272024</td>\n",
       "      <td>174.179464</td>\n",
       "      <td>142.878670</td>\n",
       "      <td>312.281226</td>\n",
       "      <td>853.558874</td>\n",
       "      <td>1859.179811</td>\n",
       "    </tr>\n",
       "    <tr>\n",
       "      <th>min</th>\n",
       "      <td>0.000000</td>\n",
       "      <td>0.000000</td>\n",
       "      <td>0.000000</td>\n",
       "      <td>0.000000</td>\n",
       "      <td>0.000000</td>\n",
       "      <td>0.000000</td>\n",
       "      <td>0.000000</td>\n",
       "    </tr>\n",
       "    <tr>\n",
       "      <th>25%</th>\n",
       "      <td>4.000000</td>\n",
       "      <td>1.500000</td>\n",
       "      <td>0.000000</td>\n",
       "      <td>0.750000</td>\n",
       "      <td>1.750000</td>\n",
       "      <td>1.750000</td>\n",
       "      <td>75.000000</td>\n",
       "    </tr>\n",
       "    <tr>\n",
       "      <th>50%</th>\n",
       "      <td>49.500000</td>\n",
       "      <td>15.000000</td>\n",
       "      <td>15.500000</td>\n",
       "      <td>14.000000</td>\n",
       "      <td>35.000000</td>\n",
       "      <td>46.500000</td>\n",
       "      <td>873.000000</td>\n",
       "    </tr>\n",
       "    <tr>\n",
       "      <th>75%</th>\n",
       "      <td>218.000000</td>\n",
       "      <td>144.750000</td>\n",
       "      <td>40.750000</td>\n",
       "      <td>56.250000</td>\n",
       "      <td>123.750000</td>\n",
       "      <td>660.250000</td>\n",
       "      <td>2124.250000</td>\n",
       "    </tr>\n",
       "    <tr>\n",
       "      <th>max</th>\n",
       "      <td>1576.000000</td>\n",
       "      <td>1205.000000</td>\n",
       "      <td>1034.000000</td>\n",
       "      <td>797.000000</td>\n",
       "      <td>1858.000000</td>\n",
       "      <td>4389.000000</td>\n",
       "      <td>8830.000000</td>\n",
       "    </tr>\n",
       "  </tbody>\n",
       "</table>\n",
       "</div>"
      ],
      "text/plain": [
       "            bridge      culvert    pit holes  steep grade  ongoing road work  \\\n",
       "count    36.000000    36.000000    36.000000    36.000000          36.000000   \n",
       "mean    154.277778   101.722222    60.166667    60.833333         124.750000   \n",
       "std     277.173346   207.272024   174.179464   142.878670         312.281226   \n",
       "min       0.000000     0.000000     0.000000     0.000000           0.000000   \n",
       "25%       4.000000     1.500000     0.000000     0.750000           1.750000   \n",
       "50%      49.500000    15.000000    15.500000    14.000000          35.000000   \n",
       "75%     218.000000   144.750000    40.750000    56.250000         123.750000   \n",
       "max    1576.000000  1205.000000  1034.000000   797.000000        1858.000000   \n",
       "\n",
       "            others  total Persons killed  \n",
       "count    36.000000             36.000000  \n",
       "mean    456.138889           1496.444444  \n",
       "std     853.558874           1859.179811  \n",
       "min       0.000000              0.000000  \n",
       "25%       1.750000             75.000000  \n",
       "50%      46.500000            873.000000  \n",
       "75%     660.250000           2124.250000  \n",
       "max    4389.000000           8830.000000  "
      ]
     },
     "execution_count": 13,
     "metadata": {},
     "output_type": "execute_result"
    }
   ],
   "source": [
    "road_accident.describe()"
   ]
  },
  {
   "cell_type": "code",
   "execution_count": 14,
   "id": "bb0b21d7",
   "metadata": {},
   "outputs": [
    {
     "data": {
      "text/html": [
       "<div>\n",
       "<style scoped>\n",
       "    .dataframe tbody tr th:only-of-type {\n",
       "        vertical-align: middle;\n",
       "    }\n",
       "\n",
       "    .dataframe tbody tr th {\n",
       "        vertical-align: top;\n",
       "    }\n",
       "\n",
       "    .dataframe thead th {\n",
       "        text-align: right;\n",
       "    }\n",
       "</style>\n",
       "<table border=\"1\" class=\"dataframe\">\n",
       "  <thead>\n",
       "    <tr style=\"text-align: right;\">\n",
       "      <th></th>\n",
       "      <th>state</th>\n",
       "      <th>bridge</th>\n",
       "      <th>culvert</th>\n",
       "      <th>pit holes</th>\n",
       "      <th>steep grade</th>\n",
       "      <th>ongoing road work</th>\n",
       "      <th>others</th>\n",
       "      <th>total Persons killed</th>\n",
       "    </tr>\n",
       "  </thead>\n",
       "  <tbody>\n",
       "    <tr>\n",
       "      <th>0</th>\n",
       "      <td>Andhra Pradesh</td>\n",
       "      <td>16</td>\n",
       "      <td>21</td>\n",
       "      <td>26</td>\n",
       "      <td>31</td>\n",
       "      <td>36</td>\n",
       "      <td>41</td>\n",
       "      <td>3114</td>\n",
       "    </tr>\n",
       "    <tr>\n",
       "      <th>1</th>\n",
       "      <td>Arunachal Pradesh</td>\n",
       "      <td>268</td>\n",
       "      <td>121</td>\n",
       "      <td>32</td>\n",
       "      <td>15</td>\n",
       "      <td>96</td>\n",
       "      <td>414</td>\n",
       "      <td>54</td>\n",
       "    </tr>\n",
       "    <tr>\n",
       "      <th>2</th>\n",
       "      <td>Assam</td>\n",
       "      <td>15</td>\n",
       "      <td>13</td>\n",
       "      <td>6</td>\n",
       "      <td>13</td>\n",
       "      <td>19</td>\n",
       "      <td>29</td>\n",
       "      <td>1690</td>\n",
       "    </tr>\n",
       "    <tr>\n",
       "      <th>3</th>\n",
       "      <td>Bihar</td>\n",
       "      <td>229</td>\n",
       "      <td>119</td>\n",
       "      <td>93</td>\n",
       "      <td>63</td>\n",
       "      <td>123</td>\n",
       "      <td>296</td>\n",
       "      <td>3436</td>\n",
       "    </tr>\n",
       "    <tr>\n",
       "      <th>4</th>\n",
       "      <td>Chhattisgarh</td>\n",
       "      <td>178</td>\n",
       "      <td>206</td>\n",
       "      <td>0</td>\n",
       "      <td>102</td>\n",
       "      <td>16</td>\n",
       "      <td>602</td>\n",
       "      <td>1421</td>\n",
       "    </tr>\n",
       "  </tbody>\n",
       "</table>\n",
       "</div>"
      ],
      "text/plain": [
       "               state  bridge  culvert  pit holes  steep grade  \\\n",
       "0     Andhra Pradesh      16       21         26           31   \n",
       "1  Arunachal Pradesh     268      121         32           15   \n",
       "2              Assam      15       13          6           13   \n",
       "3              Bihar     229      119         93           63   \n",
       "4       Chhattisgarh     178      206          0          102   \n",
       "\n",
       "   ongoing road work  others  total Persons killed  \n",
       "0                 36      41                  3114  \n",
       "1                 96     414                    54  \n",
       "2                 19      29                  1690  \n",
       "3                123     296                  3436  \n",
       "4                 16     602                  1421  "
      ]
     },
     "execution_count": 14,
     "metadata": {},
     "output_type": "execute_result"
    }
   ],
   "source": [
    "road_accident.head()"
   ]
  },
  {
   "cell_type": "code",
   "execution_count": 15,
   "id": "ac52e786",
   "metadata": {},
   "outputs": [],
   "source": [
    "road_accident.drop(['state'],axis=1,inplace=True)"
   ]
  },
  {
   "cell_type": "code",
   "execution_count": 16,
   "id": "1e821493",
   "metadata": {},
   "outputs": [
    {
     "data": {
      "text/html": [
       "<div>\n",
       "<style scoped>\n",
       "    .dataframe tbody tr th:only-of-type {\n",
       "        vertical-align: middle;\n",
       "    }\n",
       "\n",
       "    .dataframe tbody tr th {\n",
       "        vertical-align: top;\n",
       "    }\n",
       "\n",
       "    .dataframe thead th {\n",
       "        text-align: right;\n",
       "    }\n",
       "</style>\n",
       "<table border=\"1\" class=\"dataframe\">\n",
       "  <thead>\n",
       "    <tr style=\"text-align: right;\">\n",
       "      <th></th>\n",
       "      <th>bridge</th>\n",
       "      <th>culvert</th>\n",
       "      <th>pit holes</th>\n",
       "      <th>steep grade</th>\n",
       "      <th>ongoing road work</th>\n",
       "      <th>others</th>\n",
       "      <th>total Persons killed</th>\n",
       "    </tr>\n",
       "  </thead>\n",
       "  <tbody>\n",
       "    <tr>\n",
       "      <th>0</th>\n",
       "      <td>16</td>\n",
       "      <td>21</td>\n",
       "      <td>26</td>\n",
       "      <td>31</td>\n",
       "      <td>36</td>\n",
       "      <td>41</td>\n",
       "      <td>3114</td>\n",
       "    </tr>\n",
       "    <tr>\n",
       "      <th>1</th>\n",
       "      <td>268</td>\n",
       "      <td>121</td>\n",
       "      <td>32</td>\n",
       "      <td>15</td>\n",
       "      <td>96</td>\n",
       "      <td>414</td>\n",
       "      <td>54</td>\n",
       "    </tr>\n",
       "    <tr>\n",
       "      <th>2</th>\n",
       "      <td>15</td>\n",
       "      <td>13</td>\n",
       "      <td>6</td>\n",
       "      <td>13</td>\n",
       "      <td>19</td>\n",
       "      <td>29</td>\n",
       "      <td>1690</td>\n",
       "    </tr>\n",
       "    <tr>\n",
       "      <th>3</th>\n",
       "      <td>229</td>\n",
       "      <td>119</td>\n",
       "      <td>93</td>\n",
       "      <td>63</td>\n",
       "      <td>123</td>\n",
       "      <td>296</td>\n",
       "      <td>3436</td>\n",
       "    </tr>\n",
       "    <tr>\n",
       "      <th>4</th>\n",
       "      <td>178</td>\n",
       "      <td>206</td>\n",
       "      <td>0</td>\n",
       "      <td>102</td>\n",
       "      <td>16</td>\n",
       "      <td>602</td>\n",
       "      <td>1421</td>\n",
       "    </tr>\n",
       "  </tbody>\n",
       "</table>\n",
       "</div>"
      ],
      "text/plain": [
       "   bridge  culvert  pit holes  steep grade  ongoing road work  others  \\\n",
       "0      16       21         26           31                 36      41   \n",
       "1     268      121         32           15                 96     414   \n",
       "2      15       13          6           13                 19      29   \n",
       "3     229      119         93           63                123     296   \n",
       "4     178      206          0          102                 16     602   \n",
       "\n",
       "   total Persons killed  \n",
       "0                  3114  \n",
       "1                    54  \n",
       "2                  1690  \n",
       "3                  3436  \n",
       "4                  1421  "
      ]
     },
     "execution_count": 16,
     "metadata": {},
     "output_type": "execute_result"
    }
   ],
   "source": [
    "road_accident.head()"
   ]
  },
  {
   "cell_type": "markdown",
   "id": "c0929dc8",
   "metadata": {},
   "source": [
    "# APPLYING ALGORITHM"
   ]
  },
  {
   "cell_type": "code",
   "execution_count": 23,
   "id": "a9ed3baa",
   "metadata": {},
   "outputs": [
    {
     "name": "stdout",
     "output_type": "stream",
     "text": [
      "[[  16   21   26   31   36   41]\n",
      " [ 268  121   32   15   96  414]\n",
      " [  15   13    6   13   19   29]\n",
      " [ 229  119   93   63  123  296]\n",
      " [ 178  206    0  102   16  602]\n",
      " [ 158  143   28   24   84  818]\n",
      " [   1    0    1    0    0    0]\n",
      " [ 270  135    5  117  102    2]\n",
      " [ 216  150   20   88  151 1698]\n",
      " [  20    0   16   54   19    2]\n",
      " [   5    5    0    9   17  661]\n",
      " [ 184  117   94   95   53  698]\n",
      " [ 327   12   38   38  144   13]\n",
      " [  41   17    7   11   28  699]\n",
      " [ 224  279   91  136  317 2282]\n",
      " [ 321  213   72  361  341   24]\n",
      " [   7    5    0    0    2    2]\n",
      " [   4    0    2    0    0   59]\n",
      " [   0    0    0    3    1    0]\n",
      " [   0    3    0    0    9    2]\n",
      " [ 193  162  117   33  286  660]\n",
      " [ 267  242  245   53  281  506]\n",
      " [  58   44   34   23  126 1217]\n",
      " [   2    0    1    4    4   19]\n",
      " [ 544  180   93   87   73  205]\n",
      " [ 176  163   49   16   90  813]\n",
      " [  11    5    0    0    0    1]\n",
      " [  23    7   15    8   34   52]\n",
      " [1576 1205 1034  797 1858 4389]\n",
      " [ 142   89   31    5  142    0]\n",
      " [   0    2    0    1    0    0]\n",
      " [   0    0    0    0    0    0]\n",
      " [   2    0    0    0    0    0]\n",
      " [   4    0    0    0    0    0]\n",
      " [  72    4   16    3   39  217]\n",
      " [   0    0    0    0    0    0]]\n",
      "[3114   54 1690 3436 1421  107 1898 1901  487  384 1554 3842 1259 2904\n",
      " 3799  111   89   19   18 2000 1693 3870   29 3956 2491  106  428 8830\n",
      " 2002    7   13    0    0  278    0   82]\n"
     ]
    }
   ],
   "source": [
    "x=road_accident.drop('total Persons killed',axis=1).values\n",
    "y=road_accident['total Persons killed'].values\n",
    "print(x)\n",
    "print(y)\n",
    "\n"
   ]
  },
  {
   "cell_type": "code",
   "execution_count": 24,
   "id": "5351d50d",
   "metadata": {},
   "outputs": [],
   "source": [
    "\n",
    "from sklearn.model_selection import train_test_split\n",
    "x_train,x_test,y_train,y_test = train_test_split(x,y,test_size=0.2,random_state=0)"
   ]
  },
  {
   "cell_type": "code",
   "execution_count": 25,
   "id": "5f77918b",
   "metadata": {},
   "outputs": [
    {
     "data": {
      "text/plain": [
       "LinearRegression()"
      ]
     },
     "execution_count": 25,
     "metadata": {},
     "output_type": "execute_result"
    }
   ],
   "source": [
    "from sklearn.linear_model import LinearRegression\n",
    "model=LinearRegression()\n",
    "model.fit(x_train,y_train)\n"
   ]
  },
  {
   "cell_type": "code",
   "execution_count": 26,
   "id": "54ac8afa",
   "metadata": {},
   "outputs": [
    {
     "name": "stdout",
     "output_type": "stream",
     "text": [
      "[1776.81745306  601.0683497  1721.99855591 1773.37270557 2001.7515254\n",
      "  719.21827133 2217.94026381 1721.23578813]\n"
     ]
    }
   ],
   "source": [
    "y_predicted= model.predict(x_test)\n",
    "print(y_predicted)"
   ]
  },
  {
   "cell_type": "code",
   "execution_count": 27,
   "id": "425c29b6",
   "metadata": {},
   "outputs": [
    {
     "ename": "TypeError",
     "evalue": "'numpy.ndarray' object is not callable",
     "output_type": "error",
     "traceback": [
      "\u001b[1;31m---------------------------------------------------------------------------\u001b[0m",
      "\u001b[1;31mTypeError\u001b[0m                                 Traceback (most recent call last)",
      "\u001b[1;32m<ipython-input-27-12db924cd0ab>\u001b[0m in \u001b[0;36m<module>\u001b[1;34m\u001b[0m\n\u001b[1;32m----> 1\u001b[1;33m \u001b[0my_predicted\u001b[0m\u001b[1;33m(\u001b[0m\u001b[1;33m[\u001b[0m\u001b[1;33m[\u001b[0m\u001b[1;36m16\u001b[0m\u001b[1;33m,\u001b[0m\u001b[1;36m21\u001b[0m\u001b[1;33m,\u001b[0m\u001b[1;36m26\u001b[0m\u001b[1;33m,\u001b[0m\u001b[1;36m31\u001b[0m\u001b[1;33m,\u001b[0m\u001b[1;36m36\u001b[0m\u001b[1;33m,\u001b[0m\u001b[1;36m41\u001b[0m\u001b[1;33m]\u001b[0m\u001b[1;33m]\u001b[0m\u001b[1;33m)\u001b[0m\u001b[1;33m\u001b[0m\u001b[1;33m\u001b[0m\u001b[0m\n\u001b[0m",
      "\u001b[1;31mTypeError\u001b[0m: 'numpy.ndarray' object is not callable"
     ]
    }
   ],
   "source": [
    "y_predicted([[16,21,26,31,36,41]])"
   ]
  },
  {
   "cell_type": "code",
   "execution_count": 28,
   "id": "70348532",
   "metadata": {},
   "outputs": [
    {
     "data": {
      "text/plain": [
       "-2.083478149120997"
      ]
     },
     "execution_count": 28,
     "metadata": {},
     "output_type": "execute_result"
    }
   ],
   "source": [
    "from sklearn.metrics import r2_score\n",
    "r2_score(y_test,y_predicted)"
   ]
  },
  {
   "cell_type": "code",
   "execution_count": 29,
   "id": "baff5aad",
   "metadata": {},
   "outputs": [
    {
     "name": "stdout",
     "output_type": "stream",
     "text": [
      "MSE:  1852307.7164301565\n"
     ]
    }
   ],
   "source": [
    "from sklearn.metrics import mean_squared_error\n",
    "import statsmodels.api as sm\n",
    "print(\"MSE: \",mean_squared_error(y_test,y_predicted))\n"
   ]
  },
  {
   "cell_type": "code",
   "execution_count": 51,
   "id": "6aeffc0d",
   "metadata": {},
   "outputs": [
    {
     "data": {
      "image/png": "[encoded data removed]",
      "text/plain": [
       "<Figure size 432x288 with 1 Axes>"
      ]
     },
     "metadata": {
      "needs_background": "light"
     },
     "output_type": "display_data"
    }
   ],
   "source": [
    "plt.scatter(y_test,y_predicted)\n",
    "plt.xlabel(\"actual\")\n",
    "plt.ylabel(\"predicted\")\n",
    "plt.title(\"actual value v/s predicted value\")\n",
    "plt.show()"
   ]
  },
  {
   "cell_type": "code",
   "execution_count": null,
   "id": "b2d144e5",
   "metadata": {},
   "outputs": [],
   "source": []
  },
  {
   "cell_type": "code",
   "execution_count": 42,
   "id": "625dba4a",
   "metadata": {},
   "outputs": [
    {
     "name": "stdout",
     "output_type": "stream",
     "text": [
      "weight:  [ -0.98872217  -5.58735121  18.68516586   7.72995493 -10.87200694\n",
      "   0.891464  ]\n",
      "Intercept:  1776.8174530571669\n"
     ]
    }
   ],
   "source": [
    "print(\"weight: \",model.coef_)\n",
    "print(\"Intercept: \",model.intercept_)\n"
   ]
  },
  {
   "cell_type": "code",
   "execution_count": 41,
   "id": "d2309aeb",
   "metadata": {},
   "outputs": [
    {
     "data": {
      "text/html": [
       "<div>\n",
       "<style scoped>\n",
       "    .dataframe tbody tr th:only-of-type {\n",
       "        vertical-align: middle;\n",
       "    }\n",
       "\n",
       "    .dataframe tbody tr th {\n",
       "        vertical-align: top;\n",
       "    }\n",
       "\n",
       "    .dataframe thead th {\n",
       "        text-align: right;\n",
       "    }\n",
       "</style>\n",
       "<table border=\"1\" class=\"dataframe\">\n",
       "  <thead>\n",
       "    <tr style=\"text-align: right;\">\n",
       "      <th></th>\n",
       "      <th>actual value</th>\n",
       "      <th>predicted value</th>\n",
       "      <th>difference</th>\n",
       "    </tr>\n",
       "  </thead>\n",
       "  <tbody>\n",
       "    <tr>\n",
       "      <th>0</th>\n",
       "      <td>0</td>\n",
       "      <td>1776.817453</td>\n",
       "      <td>-1776.817453</td>\n",
       "    </tr>\n",
       "    <tr>\n",
       "      <th>1</th>\n",
       "      <td>1693</td>\n",
       "      <td>601.068350</td>\n",
       "      <td>1091.931650</td>\n",
       "    </tr>\n",
       "    <tr>\n",
       "      <th>2</th>\n",
       "      <td>89</td>\n",
       "      <td>1721.998556</td>\n",
       "      <td>-1632.998556</td>\n",
       "    </tr>\n",
       "    <tr>\n",
       "      <th>3</th>\n",
       "      <td>13</td>\n",
       "      <td>1773.372706</td>\n",
       "      <td>-1760.372706</td>\n",
       "    </tr>\n",
       "    <tr>\n",
       "      <th>4</th>\n",
       "      <td>29</td>\n",
       "      <td>2001.751525</td>\n",
       "      <td>-1972.751525</td>\n",
       "    </tr>\n",
       "    <tr>\n",
       "      <th>5</th>\n",
       "      <td>111</td>\n",
       "      <td>719.218271</td>\n",
       "      <td>-608.218271</td>\n",
       "    </tr>\n",
       "    <tr>\n",
       "      <th>6</th>\n",
       "      <td>1554</td>\n",
       "      <td>2217.940264</td>\n",
       "      <td>-663.940264</td>\n",
       "    </tr>\n",
       "    <tr>\n",
       "      <th>7</th>\n",
       "      <td>1690</td>\n",
       "      <td>1721.235788</td>\n",
       "      <td>-31.235788</td>\n",
       "    </tr>\n",
       "  </tbody>\n",
       "</table>\n",
       "</div>"
      ],
      "text/plain": [
       "   actual value  predicted value   difference\n",
       "0             0      1776.817453 -1776.817453\n",
       "1          1693       601.068350  1091.931650\n",
       "2            89      1721.998556 -1632.998556\n",
       "3            13      1773.372706 -1760.372706\n",
       "4            29      2001.751525 -1972.751525\n",
       "5           111       719.218271  -608.218271\n",
       "6          1554      2217.940264  -663.940264\n",
       "7          1690      1721.235788   -31.235788"
      ]
     },
     "execution_count": 41,
     "metadata": {},
     "output_type": "execute_result"
    }
   ],
   "source": [
    "pred_y_diff=pd.DataFrame({'actual value':y_test,'predicted value':y_predicted,'difference':y_test-y_predicted})\n",
    "pred_y_diff[0:36]"
   ]
  },
  {
   "cell_type": "code",
   "execution_count": 46,
   "id": "7f1e68c9",
   "metadata": {},
   "outputs": [],
   "source": [
    "import statsmodels.api as sm\n",
    "x,y= np.array(x), np.array(y)\n",
    "x = sm.add_constant(x)"
   ]
  },
  {
   "cell_type": "code",
   "execution_count": 48,
   "id": "b26a1556",
   "metadata": {},
   "outputs": [],
   "source": [
    "model = sm.OLS(y, x)"
   ]
  },
  {
   "cell_type": "code",
   "execution_count": 49,
   "id": "8d6d8fd9",
   "metadata": {},
   "outputs": [],
   "source": [
    "results = model.fit()"
   ]
  },
  {
   "cell_type": "code",
   "execution_count": 50,
   "id": "25103aeb",
   "metadata": {},
   "outputs": [
    {
     "name": "stdout",
     "output_type": "stream",
     "text": [
      "                            OLS Regression Results                            \n",
      "==============================================================================\n",
      "Dep. Variable:                      y   R-squared:                       0.095\n",
      "Model:                            OLS   Adj. R-squared:                 -0.093\n",
      "Method:                 Least Squares   F-statistic:                    0.5055\n",
      "Date:                Fri, 09 Jul 2021   Prob (F-statistic):              0.799\n",
      "Time:                        21:01:50   Log-Likelihood:                -319.79\n",
      "No. Observations:                  36   AIC:                             653.6\n",
      "Df Residuals:                      29   BIC:                             664.7\n",
      "Df Model:                           6                                         \n",
      "Covariance Type:            nonrobust                                         \n",
      "==============================================================================\n",
      "                 coef    std err          t      P>|t|      [0.025      0.975]\n",
      "------------------------------------------------------------------------------\n",
      "const       1493.1701    418.833      3.565      0.001     636.560    2349.780\n",
      "x1            -0.4203      4.259     -0.099      0.922      -9.131       8.290\n",
      "x2            -1.5131      9.711     -0.156      0.877     -21.375      18.349\n",
      "x3            16.2269     10.423      1.557      0.130      -5.090      37.544\n",
      "x4             3.9074      8.036      0.486      0.630     -12.529      20.344\n",
      "x5            -9.9783      7.220     -1.382      0.178     -24.745       4.788\n",
      "x6             0.5542      0.921      0.602      0.552      -1.329       2.437\n",
      "==============================================================================\n",
      "Omnibus:                       33.395   Durbin-Watson:                   1.921\n",
      "Prob(Omnibus):                  0.000   Jarque-Bera (JB):               90.516\n",
      "Skew:                           2.155   Prob(JB):                     2.21e-20\n",
      "Kurtosis:                       9.463   Cond. No.                     1.40e+03\n",
      "==============================================================================\n",
      "\n",
      "Notes:\n",
      "[1] Standard Errors assume that the covariance matrix of the errors is correctly specified.\n",
      "[2] The condition number is large, 1.4e+03. This might indicate that there are\n",
      "strong multicollinearity or other numerical problems.\n"
     ]
    }
   ],
   "source": [
    "print(results.summary())"
   ]
  },
  {
   "cell_type": "code",
   "execution_count": null,
   "id": "8a39015c",
   "metadata": {},
   "outputs": [],
   "source": []
  },
  {
   "cell_type": "code",
   "execution_count": null,
   "id": "0083ed43",
   "metadata": {},
   "outputs": [],
   "source": []
  },
  {
   "cell_type": "code",
   "execution_count": null,
   "id": "0150aa92",
   "metadata": {},
   "outputs": [],
   "source": []
  },
  {
   "cell_type": "code",
   "execution_count": null,
   "id": "a4fd4597",
   "metadata": {},
   "outputs": [],
   "source": []
  },
  {
   "cell_type": "code",
   "execution_count": null,
   "id": "ba83214b",
   "metadata": {},
   "outputs": [],
   "source": []
  },
  {
   "cell_type": "code",
   "execution_count": null,
   "id": "a9fe225c",
   "metadata": {},
   "outputs": [],
   "source": []
  },
  {
   "cell_type": "code",
   "execution_count": null,
   "id": "478db8bf",
   "metadata": {},
   "outputs": [],
   "source": []
  },
  {
   "cell_type": "code",
   "execution_count": null,
   "id": "ea57cf2f",
   "metadata": {},
   "outputs": [],
   "source": []
  },
  {
   "cell_type": "code",
   "execution_count": null,
   "id": "5b0eb3c0",
   "metadata": {},
   "outputs": [],
   "source": []
  },
  {
   "cell_type": "code",
   "execution_count": null,
   "id": "fdb1c488",
   "metadata": {},
   "outputs": [],
   "source": []
  },
  {
   "cell_type": "code",
   "execution_count": null,
   "id": "f0ed7dae",
   "metadata": {},
   "outputs": [],
   "source": []
  },
  {
   "cell_type": "code",
   "execution_count": null,
   "id": "389670a7",
   "metadata": {},
   "outputs": [],
   "source": []
  },
  {
   "cell_type": "code",
   "execution_count": null,
   "id": "c4c61f24",
   "metadata": {},
   "outputs": [],
   "source": []
  },
  {
   "cell_type": "code",
   "execution_count": null,
   "id": "543bfa5d",
   "metadata": {},
   "outputs": [],
   "source": []
  },
  {
   "cell_type": "code",
   "execution_count": null,
   "id": "0b2ad637",
   "metadata": {},
   "outputs": [],
   "source": []
  },
  {
   "cell_type": "code",
   "execution_count": null,
   "id": "a9337db5",
   "metadata": {},
   "outputs": [],
   "source": [
    "print(\"weight: \",model.coef_)\n",
    "print(\"Intercept: \",model.intercept_)\n"
   ]
  },
  {
   "cell_type": "code",
   "execution_count": null,
   "id": "f4e06d20",
   "metadata": {},
   "outputs": [],
   "source": []
  }
 ],
 "metadata": {
  "kernelspec": {
   "display_name": "Python 3",
   "language": "python",
   "name": "python3"
  },
  "language_info": {
   "codemirror_mode": {
    "name": "ipython",
    "version": 3
   },
   "file_extension": ".py",
   "mimetype": "text/x-python",
   "name": "python",
   "nbconvert_exporter": "python",
   "pygments_lexer": "ipython3",
   "version": "3.8.8"
  }
 },
 "nbformat": 4,
 "nbformat_minor": 5
}
